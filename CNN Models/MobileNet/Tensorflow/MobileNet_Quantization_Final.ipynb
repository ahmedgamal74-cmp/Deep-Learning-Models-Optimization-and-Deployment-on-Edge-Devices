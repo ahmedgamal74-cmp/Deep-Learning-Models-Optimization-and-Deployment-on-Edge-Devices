{
  "nbformat": 4,
  "nbformat_minor": 0,
  "metadata": {
    "colab": {
      "provenance": [],
      "gpuType": "T4",
      "include_colab_link": true
    },
    "kernelspec": {
      "name": "python3",
      "display_name": "Python 3"
    },
    "language_info": {
      "name": "python"
    },
    "accelerator": "GPU"
  },
  "cells": [
    {
      "cell_type": "markdown",
      "metadata": {
        "id": "view-in-github",
        "colab_type": "text"
      },
      "source": [
        "<a href=\"https://colab.research.google.com/github/khaledwaleedsamir/optimize-and-deploy-DL-models/blob/mobilenet/MobileNet_Quantization_Final.ipynb\" target=\"_parent\"><img src=\"https://colab.research.google.com/assets/colab-badge.svg\" alt=\"Open In Colab\"/></a>"
      ]
    },
    {
      "cell_type": "markdown",
      "source": [
        "# 1- Imports"
      ],
      "metadata": {
        "id": "HHP63zHquRUU"
      }
    },
    {
      "cell_type": "code",
      "execution_count": null,
      "metadata": {
        "id": "um91M6LGtmXz"
      },
      "outputs": [],
      "source": [
        "from tensorflow.keras.preprocessing.image import ImageDataGenerator\n",
        "from tensorflow.keras.applications import MobileNet\n",
        "from tensorflow.keras.models import Model\n",
        "from tensorflow.keras.layers import Dense, GlobalAveragePooling2D\n",
        "from sklearn.metrics import classification_report, confusion_matrix\n",
        "from tensorflow.keras.optimizers import Adam\n",
        "import tensorflow as tf\n",
        "import tensorflow_datasets as tfds\n",
        "import numpy as np\n",
        "import time\n",
        "import random\n",
        "import matplotlib.pyplot as plt\n",
        "import os\n",
        "import pandas as pd"
      ]
    },
    {
      "cell_type": "markdown",
      "source": [
        "# 2 - Loading the dataset"
      ],
      "metadata": {
        "id": "7Uu7Nf7VuNKB"
      }
    },
    {
      "cell_type": "code",
      "source": [
        "# Loading the dataset\n",
        "(train_dataset, dev_dataset, test_dataset), info = tfds.load(\n",
        "    'cats_vs_dogs',\n",
        "    split=['train[:80%]', 'train[80%:90%]', 'train[90%:]'],\n",
        "    with_info=True,\n",
        "    as_supervised=True  # Returns (image, label) pairs\n",
        ") # fix seed of random data\n",
        "len(train_dataset),len(dev_dataset),len(test_dataset)\n",
        "# Constants\n",
        "IMG_SIZE = 224\n",
        "BATCH_SIZE = 32\n",
        "SEED = 42  # Set your desired seed value\n",
        "\n",
        "# Fix the random seeds for reproducibility\n",
        "# Global Seed for TensorFlow (Optional): To ensure other random operations (e.g., augmentations, weight initialization) are also reproducible, you can set a global seed #\n",
        "tf.random.set_seed(SEED)\n",
        "np.random.seed(SEED)\n",
        "random.seed(SEED)\n",
        "# Preprocessing function\n",
        "def preprocess(image, label):\n",
        "    image = tf.image.resize(image, (IMG_SIZE, IMG_SIZE))  # Resize to IMG_SIZE\n",
        "    image = image / 255.0  # Normalize to [0, 1]\n",
        "    return image, label\n",
        "\n",
        "# Apply preprocessing\n",
        "#seed=SEED in shuffle():This ensures that the shuffling is reproducible. If you use the same seed across runs, the shuffled dataset will be identical.#\n",
        "# reshuffle_each_iteration=False:Ensures that shuffling happens once only and does not change between epochs. #\n",
        "train_dataset = train_dataset.map(preprocess).shuffle(1000, seed=SEED, reshuffle_each_iteration=False).batch(BATCH_SIZE).prefetch(tf.data.AUTOTUNE)\n",
        "dev_dataset = dev_dataset.map(preprocess).batch(BATCH_SIZE).prefetch(tf.data.AUTOTUNE)\n",
        "test_dataset = test_dataset.map(preprocess).batch(BATCH_SIZE).prefetch(tf.data.AUTOTUNE)"
      ],
      "metadata": {
        "id": "jiyyMjINt3zm"
      },
      "execution_count": null,
      "outputs": []
    },
    {
      "cell_type": "markdown",
      "source": [
        "# 3- Loading the Original saved model (protobuff file)"
      ],
      "metadata": {
        "id": "HAGdTqNfwbUO"
      }
    },
    {
      "cell_type": "code",
      "source": [
        "# Mount google drive\n",
        "from google.colab import drive\n",
        "drive.mount('/content/drive')"
      ],
      "metadata": {
        "colab": {
          "base_uri": "https://localhost:8080/"
        },
        "id": "gC2BYhBzuT9o",
        "outputId": "254d28ba-362f-4af4-b8f9-84010b8619fa"
      },
      "execution_count": null,
      "outputs": [
        {
          "output_type": "stream",
          "name": "stdout",
          "text": [
            "Drive already mounted at /content/drive; to attempt to forcibly remount, call drive.mount(\"/content/drive\", force_remount=True).\n"
          ]
        }
      ]
    },
    {
      "cell_type": "code",
      "source": [
        "original_model_path = '/content/drive/MyDrive/saved_models/mobilenet_saved_model'\n",
        "# Loading the original model without quantization\n",
        "model = tf.saved_model.load(original_model_path)"
      ],
      "metadata": {
        "id": "JfI-VBHbvyW3"
      },
      "execution_count": null,
      "outputs": []
    },
    {
      "cell_type": "markdown",
      "source": [
        "# 4- Float16 Quantization\n",
        "✅ What happens?\n",
        "\n",
        "The model weights are converted from float32 to float16, reducing the model size by half. Computation still happens in float32 on most hardware unless the device supports float16 acceleration (e.g., some GPUs and TPUs).\n",
        "Ensures that numerical precision loss is minimal."
      ],
      "metadata": {
        "id": "inz0uFuq1bVs"
      }
    },
    {
      "cell_type": "code",
      "source": [
        "# Convert to TFLite format Dynamic Range Quantization\n",
        "converter = tf.lite.TFLiteConverter.from_saved_model(original_model_path)\n",
        "converter.optimizations = [tf.lite.Optimize.DEFAULT]\n",
        "converter.target_spec.supported_types = [tf.float16]\n",
        "tflite_model_fp16 = converter.convert()\n",
        "tflite_model_fp16_path = \"/content/drive/My Drive/saved_models/mobilenet_quantized_fp16.tflite\"\n",
        "with open(tflite_model_fp16_path, \"wb\") as f:\n",
        "    f.write(tflite_model_fp16)\n",
        "\n",
        "print(f\"Quantized Model Saved at: {tflite_model_fp16_path}\")"
      ],
      "metadata": {
        "colab": {
          "base_uri": "https://localhost:8080/"
        },
        "id": "VCKFFz0N1auA",
        "outputId": "116cb126-f23e-4866-fa41-089d464f00ff"
      },
      "execution_count": null,
      "outputs": [
        {
          "output_type": "stream",
          "name": "stdout",
          "text": [
            "Quantized Model Saved at: /content/drive/My Drive/saved_models/mobilenet_quantized_fp16.tflite\n"
          ]
        }
      ]
    },
    {
      "cell_type": "markdown",
      "source": [
        "# 5- Dynamic Range Quantization\n",
        "✅ What happens?\n",
        "\n",
        "The model weights are quantized to INT8 or UINT8, but activations remain in float32 during inference.\n",
        "The model is smaller and runs faster than float16 or full float32 models.\n",
        "Since activations remain in float32, there is less precision loss compared to full INT8 quantization."
      ],
      "metadata": {
        "id": "8wzvWfkM1A_Q"
      }
    },
    {
      "cell_type": "code",
      "source": [
        "# Convert to TFLite format Dynamic Range Quantization\n",
        "converter = tf.lite.TFLiteConverter.from_saved_model(original_model_path)\n",
        "converter.optimizations = [tf.lite.Optimize.DEFAULT]  # Apply dynamic range quantization\n",
        "# Convert and save\n",
        "tflite_model_int8 = converter.convert()\n",
        "tflite_model_int8_path = \"/content/drive/My Drive/saved_models/mobilenet_quantized_part_INT8.tflite\"\n",
        "tflite_model_full_quantized_int8_path='/content/drive/MyDrive/saved_models/cats_vs_dogs_full_int8.tflite'\n",
        "with open(tflite_model_int8_path, \"wb\") as f:\n",
        "    f.write(tflite_model_int8)\n",
        "\n",
        "print(f\"Quantized Model Saved at: {tflite_model_int8_path}\")"
      ],
      "metadata": {
        "colab": {
          "base_uri": "https://localhost:8080/"
        },
        "id": "7FlUtHniwZLb",
        "outputId": "bcf93399-2e50-4454-c98e-cf44f13aa071"
      },
      "execution_count": null,
      "outputs": [
        {
          "output_type": "stream",
          "name": "stdout",
          "text": [
            "Quantized Model Saved at: /content/drive/My Drive/saved_models/mobilenet_quantized_part_INT8.tflite\n"
          ]
        }
      ]
    },
    {
      "cell_type": "markdown",
      "source": [
        "# 6- Comparing sizes of the Model"
      ],
      "metadata": {
        "id": "dhFj4UMa3tBG"
      }
    },
    {
      "cell_type": "code",
      "source": [
        "original_model_path = \"/content/drive/My Drive/saved_models/mobilenet_model.tflite\"\n",
        "# Get file size in MB\n",
        "size_in_mb_original = os.path.getsize(original_model_path) / (1024 * 1024)\n",
        "size_in_mb_float16 = os.path.getsize(tflite_model_fp16_path) / (1024 * 1024)\n",
        "size_in_mb_INT8 = os.path.getsize(tflite_model_int8_path) / (1024 * 1024)\n",
        "size_in_mb_full_INT8=os.path.getsize(tflite_model_full_quantized_int8_path) / (1024 * 1024)\n",
        "print(f\"Model Size before Quantization: {size_in_mb_original:.2f} MB\")\n",
        "print(f\"Model Size after float16 Quantization: {size_in_mb_float16:.2f} MB\")\n",
        "print(f\"Model Size after INT8 Quantization: {size_in_mb_INT8:.2f} MB\")\n",
        "print(f\"Model Size after Full INT8 Quantization: {size_in_mb_full_INT8:.2f} MB\")"
      ],
      "metadata": {
        "colab": {
          "base_uri": "https://localhost:8080/"
        },
        "id": "4gRO3cE13sA6",
        "outputId": "d4eba1ca-92c4-42b1-e2ec-d94383428bd2"
      },
      "execution_count": null,
      "outputs": [
        {
          "output_type": "stream",
          "name": "stdout",
          "text": [
            "Model Size before Quantization: 12.71 MB\n",
            "Model Size after float16 Quantization: 6.37 MB\n",
            "Model Size after INT8 Quantization: 3.35 MB\n",
            "Model Size after Full INT8 Quantization: 3.48 MB\n"
          ]
        }
      ]
    },
    {
      "cell_type": "markdown",
      "source": [
        "# 7- Comparing performances of the Model\n"
      ],
      "metadata": {
        "id": "X0f2GYK37-CA"
      }
    },
    {
      "cell_type": "code",
      "source": [
        "# Function to run inference on TFLite model\n",
        "def evaluate_tflite_model(interpreter, dataset):\n",
        "    correct = 0\n",
        "    total = 0\n",
        "    # Get input tensor details (for scale and zero point)\n",
        "    input_scale, input_zero_point = input_details[0]['quantization']  # (scale, zero_point)\n",
        "    # was used for debugging\n",
        "     #if input_scale == 0:\n",
        "     #   raise ValueError(\"Quantization scale is 0. Ensure model is fully quantized.\")\n",
        "    start_time = time.time()\n",
        "    for images, labels in dataset:\n",
        "        for i in range(len(images)):\n",
        "            # Prepare input image\n",
        "            input_data = np.expand_dims(images[i].numpy(), axis=0)\n",
        "            # Ensure INT8 conversion (Fully Quantized Model)\n",
        "            if input_details[0]['dtype'] == np.int8:\n",
        "                input_data = ((input_data / input_scale) + input_zero_point).astype(np.int8)\n",
        "            else:\n",
        "                input_data = input_data.astype(np.float32)\n",
        "            # Adjust dtype based on quantization type\n",
        "           # if input_details[0]['dtype'] == np.uint8:  # INT8 Model\n",
        "            #    input_data = (input_data * 255).astype(np.uint8)  # Scale back to INT8 range\n",
        "            #else:  # FLOAT16 or FLOAT32 Model\n",
        "             #   input_data = input_data.astype(np.float32)  # Keep FP32\n",
        "\n",
        "            # Set the input tensor\n",
        "            interpreter.set_tensor(input_details[0]['index'], input_data)\n",
        "\n",
        "            # Start timer\n",
        "            start_time = time.time()\n",
        "\n",
        "            # Run inference\n",
        "            interpreter.invoke()\n",
        "\n",
        "            # Get the output tensor\n",
        "            output_data = interpreter.get_tensor(output_details[0]['index'])\n",
        "\n",
        "            # Convert output to class label (binary classification)\n",
        "            predicted_label = 1 if output_data[0][0] > 0.5 else 0  # 1 for Dog, 0 for Cat\n",
        "\n",
        "            # Stop timer\n",
        "            stop_time = time.time()\n",
        "            # Compare with ground truth\n",
        "            if predicted_label == labels[i].numpy():\n",
        "                correct += 1\n",
        "            total += 1\n",
        "    execution_time = stop_time - start_time\n",
        "    print(f\"Inference Time for a single image: {execution_time:.2f} seconds\")\n",
        "    accuracy = (correct / total) * 100\n",
        "    return accuracy"
      ],
      "metadata": {
        "id": "H8nHIAmw_m7U"
      },
      "execution_count": null,
      "outputs": []
    },
    {
      "cell_type": "markdown",
      "source": [
        "## 1- Original Model"
      ],
      "metadata": {
        "id": "9Y4q2thZ-Wi2"
      }
    },
    {
      "cell_type": "code",
      "source": [
        "# Load the model\n",
        "interpreter = tf.lite.Interpreter(model_path=original_model_path)\n",
        "interpreter.allocate_tensors()\n",
        "# Get input and output details\n",
        "input_details = interpreter.get_input_details()\n",
        "output_details = interpreter.get_output_details()\n",
        "# Run evaluation on TFLite model\n",
        "accuracy = evaluate_tflite_model(interpreter, test_dataset)\n",
        "print(f\"TFLite Model Accuracy: {accuracy:.2f}%\")"
      ],
      "metadata": {
        "colab": {
          "base_uri": "https://localhost:8080/"
        },
        "id": "flRXVQCu7Svo",
        "outputId": "b37a18d7-58c5-46b5-be9e-1fea6b16d7d1"
      },
      "execution_count": null,
      "outputs": [
        {
          "output_type": "stream",
          "name": "stdout",
          "text": [
            "Inference Time for a single image: 0.02 seconds\n",
            "TFLite Model Accuracy: 98.80%\n"
          ]
        }
      ]
    },
    {
      "cell_type": "markdown",
      "source": [
        "## Float16 Quantizatied model"
      ],
      "metadata": {
        "id": "tsjLEnA9-brq"
      }
    },
    {
      "cell_type": "code",
      "source": [
        "interpreter = tf.lite.Interpreter(model_path=tflite_model_fp16_path)\n",
        "interpreter.allocate_tensors()\n",
        "\n",
        "# Get input and output details\n",
        "input_details = interpreter.get_input_details()\n",
        "output_details = interpreter.get_output_details()\n",
        "\n",
        "\n",
        "# Run evaluation on TFLite model\n",
        "accuracy = evaluate_tflite_model(interpreter, test_dataset)\n",
        "print(f\"TFLite Model Accuracy: {accuracy:.2f}%\")"
      ],
      "metadata": {
        "colab": {
          "base_uri": "https://localhost:8080/"
        },
        "id": "M7C4iDCH-g_i",
        "outputId": "b85331a6-4336-4c19-f298-e3e28f792509"
      },
      "execution_count": null,
      "outputs": [
        {
          "output_type": "stream",
          "name": "stdout",
          "text": [
            "Inference Time for a single image: 0.02 seconds\n",
            "TFLite Model Accuracy: 98.80%\n"
          ]
        }
      ]
    },
    {
      "cell_type": "markdown",
      "source": [
        "## 3- Dynamic Range Quantizatied (INT8 weights)"
      ],
      "metadata": {
        "id": "uJGxBynOAZXS"
      }
    },
    {
      "cell_type": "code",
      "source": [
        "interpreter = tf.lite.Interpreter(model_path=tflite_model_int8_path)\n",
        "interpreter.allocate_tensors()\n",
        "# Get input and output details\n",
        "input_details = interpreter.get_input_details()\n",
        "output_details = interpreter.get_output_details()\n",
        "# Run evaluation on TFLite model\n",
        "accuracy = evaluate_tflite_model(interpreter, test_dataset)\n",
        "print(f\"TFLite Model Accuracy: {accuracy:.2f}%\")"
      ],
      "metadata": {
        "colab": {
          "base_uri": "https://localhost:8080/"
        },
        "id": "nSfg0pfSAY80",
        "outputId": "6082f55b-562d-4429-c27d-43084d715244"
      },
      "execution_count": null,
      "outputs": [
        {
          "output_type": "stream",
          "name": "stdout",
          "text": [
            "Inference Time for a single image: 0.03 seconds\n",
            "TFLite Model Accuracy: 98.62%\n"
          ]
        }
      ]
    },
    {
      "cell_type": "code",
      "source": [
        "# @title Dynamic Range Full Quantized\n",
        "interpreter = tf.lite.Interpreter(model_path=tflite_model_full_quantized_int8_path)\n",
        "interpreter.allocate_tensors()\n",
        "# Get input and output details\n",
        "input_details = interpreter.get_input_details()\n",
        "output_details = interpreter.get_output_details()\n",
        "# Run evaluation on TFLite model\n",
        "accuracy = evaluate_tflite_model(interpreter, test_dataset)\n",
        "print(f\"TFLite Model Accuracy: {accuracy:.2f}%\")"
      ],
      "metadata": {
        "colab": {
          "base_uri": "https://localhost:8080/"
        },
        "id": "8fSHgsPHUP7u",
        "outputId": "5f9a09c1-cc24-4e51-ec45-95729ed06547"
      },
      "execution_count": null,
      "outputs": [
        {
          "output_type": "stream",
          "name": "stdout",
          "text": [
            "Inference Time for a single image: 0.02 seconds\n",
            "TFLite Model Accuracy: 98.37%\n"
          ]
        }
      ]
    },
    {
      "cell_type": "code",
      "source": [
        "data = {\n",
        "    'Model': ['Original Model', 'FP16 Quantized', 'INT8 Quantized','Full INT8 Quantized'],\n",
        "    'Accuracy (%)': [98.80, 98.80, 98.62,98.37],\n",
        "    'Inference Time for a single image (ms)': [30, 20, 30, 20 ],\n",
        "    'Model Size (MB)': [size_in_mb_original, size_in_mb_float16, size_in_mb_INT8,size_in_mb_full_INT8],\n",
        "}\n",
        "results_table = pd.DataFrame(data)\n",
        "results_table"
      ],
      "metadata": {
        "colab": {
          "base_uri": "https://localhost:8080/",
          "height": 175
        },
        "id": "Ft8Y1q-kDvH9",
        "outputId": "982eb2a8-1040-4f41-ef3d-59603f8f0f23"
      },
      "execution_count": null,
      "outputs": [
        {
          "output_type": "execute_result",
          "data": {
            "text/plain": [
              "                 Model  Accuracy (%)  Inference Time for a single image (ms)  \\\n",
              "0       Original Model         98.80                                      30   \n",
              "1       FP16 Quantized         98.80                                      20   \n",
              "2       INT8 Quantized         98.62                                      30   \n",
              "3  Full INT8 Quantized         98.37                                      20   \n",
              "\n",
              "   Model Size (MB)  \n",
              "0        12.708714  \n",
              "1         6.368641  \n",
              "2         3.351746  \n",
              "3         3.476463  "
            ],
            "text/html": [
              "\n",
              "  <div id=\"df-3dc9c652-7c50-4d49-b6f7-951e341ab4a8\" class=\"colab-df-container\">\n",
              "    <div>\n",
              "<style scoped>\n",
              "    .dataframe tbody tr th:only-of-type {\n",
              "        vertical-align: middle;\n",
              "    }\n",
              "\n",
              "    .dataframe tbody tr th {\n",
              "        vertical-align: top;\n",
              "    }\n",
              "\n",
              "    .dataframe thead th {\n",
              "        text-align: right;\n",
              "    }\n",
              "</style>\n",
              "<table border=\"1\" class=\"dataframe\">\n",
              "  <thead>\n",
              "    <tr style=\"text-align: right;\">\n",
              "      <th></th>\n",
              "      <th>Model</th>\n",
              "      <th>Accuracy (%)</th>\n",
              "      <th>Inference Time for a single image (ms)</th>\n",
              "      <th>Model Size (MB)</th>\n",
              "    </tr>\n",
              "  </thead>\n",
              "  <tbody>\n",
              "    <tr>\n",
              "      <th>0</th>\n",
              "      <td>Original Model</td>\n",
              "      <td>98.80</td>\n",
              "      <td>30</td>\n",
              "      <td>12.708714</td>\n",
              "    </tr>\n",
              "    <tr>\n",
              "      <th>1</th>\n",
              "      <td>FP16 Quantized</td>\n",
              "      <td>98.80</td>\n",
              "      <td>20</td>\n",
              "      <td>6.368641</td>\n",
              "    </tr>\n",
              "    <tr>\n",
              "      <th>2</th>\n",
              "      <td>INT8 Quantized</td>\n",
              "      <td>98.62</td>\n",
              "      <td>30</td>\n",
              "      <td>3.351746</td>\n",
              "    </tr>\n",
              "    <tr>\n",
              "      <th>3</th>\n",
              "      <td>Full INT8 Quantized</td>\n",
              "      <td>98.37</td>\n",
              "      <td>20</td>\n",
              "      <td>3.476463</td>\n",
              "    </tr>\n",
              "  </tbody>\n",
              "</table>\n",
              "</div>\n",
              "    <div class=\"colab-df-buttons\">\n",
              "\n",
              "  <div class=\"colab-df-container\">\n",
              "    <button class=\"colab-df-convert\" onclick=\"convertToInteractive('df-3dc9c652-7c50-4d49-b6f7-951e341ab4a8')\"\n",
              "            title=\"Convert this dataframe to an interactive table.\"\n",
              "            style=\"display:none;\">\n",
              "\n",
              "  <svg xmlns=\"http://www.w3.org/2000/svg\" height=\"24px\" viewBox=\"0 -960 960 960\">\n",
              "    <path d=\"M120-120v-720h720v720H120Zm60-500h600v-160H180v160Zm220 220h160v-160H400v160Zm0 220h160v-160H400v160ZM180-400h160v-160H180v160Zm440 0h160v-160H620v160ZM180-180h160v-160H180v160Zm440 0h160v-160H620v160Z\"/>\n",
              "  </svg>\n",
              "    </button>\n",
              "\n",
              "  <style>\n",
              "    .colab-df-container {\n",
              "      display:flex;\n",
              "      gap: 12px;\n",
              "    }\n",
              "\n",
              "    .colab-df-convert {\n",
              "      background-color: #E8F0FE;\n",
              "      border: none;\n",
              "      border-radius: 50%;\n",
              "      cursor: pointer;\n",
              "      display: none;\n",
              "      fill: #1967D2;\n",
              "      height: 32px;\n",
              "      padding: 0 0 0 0;\n",
              "      width: 32px;\n",
              "    }\n",
              "\n",
              "    .colab-df-convert:hover {\n",
              "      background-color: #E2EBFA;\n",
              "      box-shadow: 0px 1px 2px rgba(60, 64, 67, 0.3), 0px 1px 3px 1px rgba(60, 64, 67, 0.15);\n",
              "      fill: #174EA6;\n",
              "    }\n",
              "\n",
              "    .colab-df-buttons div {\n",
              "      margin-bottom: 4px;\n",
              "    }\n",
              "\n",
              "    [theme=dark] .colab-df-convert {\n",
              "      background-color: #3B4455;\n",
              "      fill: #D2E3FC;\n",
              "    }\n",
              "\n",
              "    [theme=dark] .colab-df-convert:hover {\n",
              "      background-color: #434B5C;\n",
              "      box-shadow: 0px 1px 3px 1px rgba(0, 0, 0, 0.15);\n",
              "      filter: drop-shadow(0px 1px 2px rgba(0, 0, 0, 0.3));\n",
              "      fill: #FFFFFF;\n",
              "    }\n",
              "  </style>\n",
              "\n",
              "    <script>\n",
              "      const buttonEl =\n",
              "        document.querySelector('#df-3dc9c652-7c50-4d49-b6f7-951e341ab4a8 button.colab-df-convert');\n",
              "      buttonEl.style.display =\n",
              "        google.colab.kernel.accessAllowed ? 'block' : 'none';\n",
              "\n",
              "      async function convertToInteractive(key) {\n",
              "        const element = document.querySelector('#df-3dc9c652-7c50-4d49-b6f7-951e341ab4a8');\n",
              "        const dataTable =\n",
              "          await google.colab.kernel.invokeFunction('convertToInteractive',\n",
              "                                                    [key], {});\n",
              "        if (!dataTable) return;\n",
              "\n",
              "        const docLinkHtml = 'Like what you see? Visit the ' +\n",
              "          '<a target=\"_blank\" href=https://colab.research.google.com/notebooks/data_table.ipynb>data table notebook</a>'\n",
              "          + ' to learn more about interactive tables.';\n",
              "        element.innerHTML = '';\n",
              "        dataTable['output_type'] = 'display_data';\n",
              "        await google.colab.output.renderOutput(dataTable, element);\n",
              "        const docLink = document.createElement('div');\n",
              "        docLink.innerHTML = docLinkHtml;\n",
              "        element.appendChild(docLink);\n",
              "      }\n",
              "    </script>\n",
              "  </div>\n",
              "\n",
              "\n",
              "<div id=\"df-611bc951-5ef5-4822-b0d4-35d39eb26334\">\n",
              "  <button class=\"colab-df-quickchart\" onclick=\"quickchart('df-611bc951-5ef5-4822-b0d4-35d39eb26334')\"\n",
              "            title=\"Suggest charts\"\n",
              "            style=\"display:none;\">\n",
              "\n",
              "<svg xmlns=\"http://www.w3.org/2000/svg\" height=\"24px\"viewBox=\"0 0 24 24\"\n",
              "     width=\"24px\">\n",
              "    <g>\n",
              "        <path d=\"M19 3H5c-1.1 0-2 .9-2 2v14c0 1.1.9 2 2 2h14c1.1 0 2-.9 2-2V5c0-1.1-.9-2-2-2zM9 17H7v-7h2v7zm4 0h-2V7h2v10zm4 0h-2v-4h2v4z\"/>\n",
              "    </g>\n",
              "</svg>\n",
              "  </button>\n",
              "\n",
              "<style>\n",
              "  .colab-df-quickchart {\n",
              "      --bg-color: #E8F0FE;\n",
              "      --fill-color: #1967D2;\n",
              "      --hover-bg-color: #E2EBFA;\n",
              "      --hover-fill-color: #174EA6;\n",
              "      --disabled-fill-color: #AAA;\n",
              "      --disabled-bg-color: #DDD;\n",
              "  }\n",
              "\n",
              "  [theme=dark] .colab-df-quickchart {\n",
              "      --bg-color: #3B4455;\n",
              "      --fill-color: #D2E3FC;\n",
              "      --hover-bg-color: #434B5C;\n",
              "      --hover-fill-color: #FFFFFF;\n",
              "      --disabled-bg-color: #3B4455;\n",
              "      --disabled-fill-color: #666;\n",
              "  }\n",
              "\n",
              "  .colab-df-quickchart {\n",
              "    background-color: var(--bg-color);\n",
              "    border: none;\n",
              "    border-radius: 50%;\n",
              "    cursor: pointer;\n",
              "    display: none;\n",
              "    fill: var(--fill-color);\n",
              "    height: 32px;\n",
              "    padding: 0;\n",
              "    width: 32px;\n",
              "  }\n",
              "\n",
              "  .colab-df-quickchart:hover {\n",
              "    background-color: var(--hover-bg-color);\n",
              "    box-shadow: 0 1px 2px rgba(60, 64, 67, 0.3), 0 1px 3px 1px rgba(60, 64, 67, 0.15);\n",
              "    fill: var(--button-hover-fill-color);\n",
              "  }\n",
              "\n",
              "  .colab-df-quickchart-complete:disabled,\n",
              "  .colab-df-quickchart-complete:disabled:hover {\n",
              "    background-color: var(--disabled-bg-color);\n",
              "    fill: var(--disabled-fill-color);\n",
              "    box-shadow: none;\n",
              "  }\n",
              "\n",
              "  .colab-df-spinner {\n",
              "    border: 2px solid var(--fill-color);\n",
              "    border-color: transparent;\n",
              "    border-bottom-color: var(--fill-color);\n",
              "    animation:\n",
              "      spin 1s steps(1) infinite;\n",
              "  }\n",
              "\n",
              "  @keyframes spin {\n",
              "    0% {\n",
              "      border-color: transparent;\n",
              "      border-bottom-color: var(--fill-color);\n",
              "      border-left-color: var(--fill-color);\n",
              "    }\n",
              "    20% {\n",
              "      border-color: transparent;\n",
              "      border-left-color: var(--fill-color);\n",
              "      border-top-color: var(--fill-color);\n",
              "    }\n",
              "    30% {\n",
              "      border-color: transparent;\n",
              "      border-left-color: var(--fill-color);\n",
              "      border-top-color: var(--fill-color);\n",
              "      border-right-color: var(--fill-color);\n",
              "    }\n",
              "    40% {\n",
              "      border-color: transparent;\n",
              "      border-right-color: var(--fill-color);\n",
              "      border-top-color: var(--fill-color);\n",
              "    }\n",
              "    60% {\n",
              "      border-color: transparent;\n",
              "      border-right-color: var(--fill-color);\n",
              "    }\n",
              "    80% {\n",
              "      border-color: transparent;\n",
              "      border-right-color: var(--fill-color);\n",
              "      border-bottom-color: var(--fill-color);\n",
              "    }\n",
              "    90% {\n",
              "      border-color: transparent;\n",
              "      border-bottom-color: var(--fill-color);\n",
              "    }\n",
              "  }\n",
              "</style>\n",
              "\n",
              "  <script>\n",
              "    async function quickchart(key) {\n",
              "      const quickchartButtonEl =\n",
              "        document.querySelector('#' + key + ' button');\n",
              "      quickchartButtonEl.disabled = true;  // To prevent multiple clicks.\n",
              "      quickchartButtonEl.classList.add('colab-df-spinner');\n",
              "      try {\n",
              "        const charts = await google.colab.kernel.invokeFunction(\n",
              "            'suggestCharts', [key], {});\n",
              "      } catch (error) {\n",
              "        console.error('Error during call to suggestCharts:', error);\n",
              "      }\n",
              "      quickchartButtonEl.classList.remove('colab-df-spinner');\n",
              "      quickchartButtonEl.classList.add('colab-df-quickchart-complete');\n",
              "    }\n",
              "    (() => {\n",
              "      let quickchartButtonEl =\n",
              "        document.querySelector('#df-611bc951-5ef5-4822-b0d4-35d39eb26334 button');\n",
              "      quickchartButtonEl.style.display =\n",
              "        google.colab.kernel.accessAllowed ? 'block' : 'none';\n",
              "    })();\n",
              "  </script>\n",
              "</div>\n",
              "\n",
              "  <div id=\"id_48945acc-ab6e-4ab0-84fb-5e3123698b67\">\n",
              "    <style>\n",
              "      .colab-df-generate {\n",
              "        background-color: #E8F0FE;\n",
              "        border: none;\n",
              "        border-radius: 50%;\n",
              "        cursor: pointer;\n",
              "        display: none;\n",
              "        fill: #1967D2;\n",
              "        height: 32px;\n",
              "        padding: 0 0 0 0;\n",
              "        width: 32px;\n",
              "      }\n",
              "\n",
              "      .colab-df-generate:hover {\n",
              "        background-color: #E2EBFA;\n",
              "        box-shadow: 0px 1px 2px rgba(60, 64, 67, 0.3), 0px 1px 3px 1px rgba(60, 64, 67, 0.15);\n",
              "        fill: #174EA6;\n",
              "      }\n",
              "\n",
              "      [theme=dark] .colab-df-generate {\n",
              "        background-color: #3B4455;\n",
              "        fill: #D2E3FC;\n",
              "      }\n",
              "\n",
              "      [theme=dark] .colab-df-generate:hover {\n",
              "        background-color: #434B5C;\n",
              "        box-shadow: 0px 1px 3px 1px rgba(0, 0, 0, 0.15);\n",
              "        filter: drop-shadow(0px 1px 2px rgba(0, 0, 0, 0.3));\n",
              "        fill: #FFFFFF;\n",
              "      }\n",
              "    </style>\n",
              "    <button class=\"colab-df-generate\" onclick=\"generateWithVariable('results_table')\"\n",
              "            title=\"Generate code using this dataframe.\"\n",
              "            style=\"display:none;\">\n",
              "\n",
              "  <svg xmlns=\"http://www.w3.org/2000/svg\" height=\"24px\"viewBox=\"0 0 24 24\"\n",
              "       width=\"24px\">\n",
              "    <path d=\"M7,19H8.4L18.45,9,17,7.55,7,17.6ZM5,21V16.75L18.45,3.32a2,2,0,0,1,2.83,0l1.4,1.43a1.91,1.91,0,0,1,.58,1.4,1.91,1.91,0,0,1-.58,1.4L9.25,21ZM18.45,9,17,7.55Zm-12,3A5.31,5.31,0,0,0,4.9,8.1,5.31,5.31,0,0,0,1,6.5,5.31,5.31,0,0,0,4.9,4.9,5.31,5.31,0,0,0,6.5,1,5.31,5.31,0,0,0,8.1,4.9,5.31,5.31,0,0,0,12,6.5,5.46,5.46,0,0,0,6.5,12Z\"/>\n",
              "  </svg>\n",
              "    </button>\n",
              "    <script>\n",
              "      (() => {\n",
              "      const buttonEl =\n",
              "        document.querySelector('#id_48945acc-ab6e-4ab0-84fb-5e3123698b67 button.colab-df-generate');\n",
              "      buttonEl.style.display =\n",
              "        google.colab.kernel.accessAllowed ? 'block' : 'none';\n",
              "\n",
              "      buttonEl.onclick = () => {\n",
              "        google.colab.notebook.generateWithVariable('results_table');\n",
              "      }\n",
              "      })();\n",
              "    </script>\n",
              "  </div>\n",
              "\n",
              "    </div>\n",
              "  </div>\n"
            ],
            "application/vnd.google.colaboratory.intrinsic+json": {
              "type": "dataframe",
              "variable_name": "results_table",
              "summary": "{\n  \"name\": \"results_table\",\n  \"rows\": 4,\n  \"fields\": [\n    {\n      \"column\": \"Model\",\n      \"properties\": {\n        \"dtype\": \"string\",\n        \"num_unique_values\": 4,\n        \"samples\": [\n          \"FP16 Quantized\",\n          \"Full INT8 Quantized\",\n          \"Original Model\"\n        ],\n        \"semantic_type\": \"\",\n        \"description\": \"\"\n      }\n    },\n    {\n      \"column\": \"Accuracy (%)\",\n      \"properties\": {\n        \"dtype\": \"number\",\n        \"std\": 0.2035313243704725,\n        \"min\": 98.37,\n        \"max\": 98.8,\n        \"num_unique_values\": 3,\n        \"samples\": [\n          98.8,\n          98.62,\n          98.37\n        ],\n        \"semantic_type\": \"\",\n        \"description\": \"\"\n      }\n    },\n    {\n      \"column\": \"Inference Time for a single image (ms)\",\n      \"properties\": {\n        \"dtype\": \"number\",\n        \"std\": 5,\n        \"min\": 20,\n        \"max\": 30,\n        \"num_unique_values\": 2,\n        \"samples\": [\n          20,\n          30\n        ],\n        \"semantic_type\": \"\",\n        \"description\": \"\"\n      }\n    },\n    {\n      \"column\": \"Model Size (MB)\",\n      \"properties\": {\n        \"dtype\": \"number\",\n        \"std\": 4.38240531977063,\n        \"min\": 3.35174560546875,\n        \"max\": 12.70871353149414,\n        \"num_unique_values\": 4,\n        \"samples\": [\n          6.368640899658203,\n          3.4764633178710938\n        ],\n        \"semantic_type\": \"\",\n        \"description\": \"\"\n      }\n    }\n  ]\n}"
            }
          },
          "metadata": {},
          "execution_count": 35
        }
      ]
    }
  ]
}