{
  "cells": [
    {
      "cell_type": "code",
      "source": [
        "!python3 --version"
      ],
      "metadata": {
        "colab": {
          "base_uri": "https://localhost:8080/"
        },
        "id": "0jUqqNvmf-PK",
        "outputId": "da3d1ce2-a3a1-4905-f1e7-558927d20a5d"
      },
      "execution_count": null,
      "outputs": [
        {
          "output_type": "stream",
          "name": "stdout",
          "text": [
            "Python 3.11.11\n"
          ]
        }
      ]
    },
    {
      "cell_type": "markdown",
      "metadata": {
        "id": "HHP63zHquRUU"
      },
      "source": [
        "# 1- Imports 📥"
      ]
    },
    {
      "cell_type": "code",
      "execution_count": 1,
      "metadata": {
        "id": "um91M6LGtmXz"
      },
      "outputs": [],
      "source": [
        "from tensorflow.keras.preprocessing.image import ImageDataGenerator\n",
        "from tensorflow.keras.applications import MobileNet\n",
        "from tensorflow.keras.models import Model\n",
        "from tensorflow.keras.layers import Dense, GlobalAveragePooling2D, Dropout, BatchNormalization,RandomFlip, RandomRotation, RandomZoom\n",
        "from sklearn.metrics import classification_report, confusion_matrix\n",
        "from tensorflow.keras.optimizers import Adam\n",
        "from tensorflow.keras.applications.mobilenet import preprocess_input\n",
        "from tensorflow.keras.datasets import cifar10\n",
        "from tensorflow.keras.callbacks import ReduceLROnPlateau\n",
        "from tensorflow.keras.callbacks import EarlyStopping\n",
        "import tensorflow as tf\n",
        "import tensorflow_datasets as tfds\n",
        "import numpy as np\n",
        "import time\n",
        "import random\n",
        "import matplotlib.pyplot as plt\n",
        "import os\n",
        "import pandas as pd"
      ]
    },
    {
      "cell_type": "markdown",
      "metadata": {
        "id": "7Uu7Nf7VuNKB"
      },
      "source": [
        "# 2 - Loading the dataset 📊"
      ]
    },
    {
      "cell_type": "code",
      "execution_count": null,
      "metadata": {
        "colab": {
          "base_uri": "https://localhost:8080/"
        },
        "id": "jiyyMjINt3zm",
        "outputId": "2dba9c95-6009-43c0-fbfd-cccc3b4e0801"
      },
      "outputs": [
        {
          "output_type": "stream",
          "name": "stdout",
          "text": [
            "Downloading data from https://www.cs.toronto.edu/~kriz/cifar-10-python.tar.gz\n",
            "\u001b[1m170498071/170498071\u001b[0m \u001b[32m━━━━━━━━━━━━━━━━━━━━\u001b[0m\u001b[37m\u001b[0m \u001b[1m6s\u001b[0m 0us/step\n",
            "Original Train set: (50000, 32, 32, 3)\n",
            "Original Test set: (10000, 32, 32, 3)\n",
            "Train set: (45000, 32, 32, 3)\n",
            "Dev set: (5000, 32, 32, 3)\n",
            "Test set: (10000, 32, 32, 3)\n",
            "<_PrefetchDataset element_spec=(TensorSpec(shape=(None, 224, 224, 3), dtype=tf.float32, name=None), TensorSpec(shape=(None, 1), dtype=tf.uint8, name=None))>\n",
            "<_PrefetchDataset element_spec=(TensorSpec(shape=(None, 224, 224, 3), dtype=tf.float32, name=None), TensorSpec(shape=(None, 1), dtype=tf.uint8, name=None))>\n",
            "<_PrefetchDataset element_spec=(TensorSpec(shape=(None, 224, 224, 3), dtype=tf.float32, name=None), TensorSpec(shape=(None, 1), dtype=tf.uint8, name=None))>\n"
          ]
        }
      ],
      "source": [
        "# Load dataset\n",
        "(x_train, y_train), (x_test, y_test) = cifar10.load_data()\n",
        "print(f\"Original Train set: {x_train.shape}\")\n",
        "print(f\"Original Test set: {x_test.shape}\")\n",
        "# Reserve 5000 samples from the training set for validation\n",
        "x_train, x_dev = x_train[:45000], x_train[45000:]\n",
        "y_train, y_dev = y_train[:45000], y_train[45000:]\n",
        "\n",
        "print(f\"Train set: {x_train.shape}\")\n",
        "print(f\"Dev set: {x_dev.shape}\")\n",
        "print(f\"Test set: {x_test.shape}\")\n",
        "# Define batch size\n",
        "BATCH_SIZE = 64\n",
        "AUTOTUNE = tf.data.AUTOTUNE  # Optimizes performance\n",
        "# Define batch size\n",
        "BATCH_SIZE = 64\n",
        "AUTOTUNE = tf.data.AUTOTUNE  # Optimizes performance\n",
        "# Define data augmentation layers\n",
        "data_augmentation = tf.keras.Sequential([\n",
        "    RandomFlip(\"horizontal\"),  # Random horizontal flipping\n",
        "    RandomRotation(0.1),       # Random rotation (10% of 360 degrees)\n",
        "    RandomZoom(0.1)            # Random zoom\n",
        "])\n",
        "\n",
        "# Function to resize and normalize images\n",
        "def preprocess(image, label, augment=False):\n",
        "    image = tf.image.resize(image, (224, 224))  # Resize dynamically\n",
        "\n",
        "    if augment:\n",
        "        image = data_augmentation(image)  # Apply augmentations\n",
        "\n",
        "    image = preprocess_input(image)  # Normalize for MobileNet\n",
        "    return image, label\n",
        "\n",
        "# Convert datasets to tf.data.Dataset\n",
        "train_dataset = tf.data.Dataset.from_tensor_slices((x_train, y_train))\n",
        "dev_dataset = tf.data.Dataset.from_tensor_slices((x_dev, y_dev))\n",
        "test_dataset = tf.data.Dataset.from_tensor_slices((x_test, y_test))\n",
        "\n",
        "# Apply preprocessing and batching\n",
        "train_dataset = (\n",
        "    tf.data.Dataset.from_tensor_slices((x_train, y_train))\n",
        "    .shuffle(buffer_size=10000)  # Shuffle data for randomness\n",
        "    .map(lambda x, y: preprocess(x, y, augment=True), num_parallel_calls=AUTOTUNE)\n",
        "    .batch(BATCH_SIZE)\n",
        "    .prefetch(AUTOTUNE)\n",
        ")\n",
        "dev_dataset = (\n",
        "    dev_dataset\n",
        "    .map(preprocess, num_parallel_calls=AUTOTUNE)\n",
        "    .batch(BATCH_SIZE)\n",
        "    .prefetch(AUTOTUNE)\n",
        ")\n",
        "\n",
        "test_dataset = (\n",
        "    test_dataset\n",
        "    .map(preprocess, num_parallel_calls=AUTOTUNE)\n",
        "    .batch(BATCH_SIZE)\n",
        "    .prefetch(AUTOTUNE)\n",
        ")\n",
        "\n",
        "# Print dataset structure\n",
        "print(train_dataset)\n",
        "print(dev_dataset)\n",
        "print(test_dataset)"
      ]
    },
    {
      "cell_type": "markdown",
      "metadata": {
        "id": "HAGdTqNfwbUO"
      },
      "source": [
        "# 3- Loading the Original saved model (protobuff)"
      ]
    },
    {
      "cell_type": "code",
      "execution_count": null,
      "metadata": {
        "colab": {
          "base_uri": "https://localhost:8080/"
        },
        "id": "gC2BYhBzuT9o",
        "outputId": "ca71f056-1f1b-4191-daab-73191c1d0cc2"
      },
      "outputs": [
        {
          "output_type": "stream",
          "name": "stdout",
          "text": [
            "Mounted at /content/drive\n"
          ]
        }
      ],
      "source": [
        "# Mount google drive\n",
        "from google.colab import drive\n",
        "drive.mount('/content/drive')"
      ]
    },
    {
      "cell_type": "markdown",
      "source": [
        "Note: original attempt `from_saved_model()` failed, likely because TensorFlow could not properly trace the computation graph from the SavedModel format. Using concrete functions instead ensures that TensorFlow converts the exact computation graph that will be executed, avoiding issues with dynamic tracing.Instead of letting TFLiteConverter try to extract the function itself (which failed), we explicitly passed the extracted function.\n",
        "The automatic graph tracing used by TFLiteConverter.from_saved_model() sometimes fails due to:\n",
        "\n",
        "1. Unsupported Operations (not all TensorFlow ops are supported in TFLite)\n",
        "2. Dynamic Shapes (TFLite prefers static input shapes)\n",
        "3. Control Flow Complexity (if the model has loops or conditionals)\n",
        "\n",
        "By extracting a concrete function, we are giving TFLite a static, fully-defined graph, making conversion more reliable."
      ],
      "metadata": {
        "id": "5sWADUvFUxaJ"
      }
    },
    {
      "cell_type": "code",
      "source": [
        "original_model_path = '/content/drive/MyDrive/saved_models/mobileNetAug_CIFAR10'\n",
        "\n",
        "# Load the model\n",
        "model = tf.saved_model.load(original_model_path)\n",
        "concrete_func = model.signatures[\"serving_default\"]  # Explicitly get the function"
      ],
      "metadata": {
        "id": "77DOj2_oPzLB"
      },
      "execution_count": null,
      "outputs": []
    },
    {
      "cell_type": "markdown",
      "source": [
        "## Create the directory to store different versions of output models"
      ],
      "metadata": {
        "id": "rIJ-l-H0rg-G"
      }
    },
    {
      "cell_type": "code",
      "source": [
        "# check if mobileNet_cifar10_quantization directory doesn't exist create it\n",
        "if not os.path.exists('/content/drive/My Drive/saved_models/mobileNet_cifar10_quantization'):\n",
        "    os.makedirs('/content/drive/My Drive/saved_models/mobileNet_cifar10_quantization')\n",
        "    print(\"Folder: mobileNet_cifar10_quantization created successfully\")\n",
        "else:\n",
        "    print(\"Folder: mobileNet_cifar10_quantization already exists skipping folder creation...\")"
      ],
      "metadata": {
        "id": "BwzqEN0SraqB",
        "colab": {
          "base_uri": "https://localhost:8080/"
        },
        "outputId": "88aee756-1945-45a4-eb81-2ef9f939d808"
      },
      "execution_count": null,
      "outputs": [
        {
          "output_type": "stream",
          "name": "stdout",
          "text": [
            "Folder: mobileNet_cifar10_quantization already exists skipping folder creation...\n"
          ]
        }
      ]
    },
    {
      "cell_type": "markdown",
      "source": [
        "## Converting the Original model to tflite format\n",
        "\n",
        "✅ This is done to ensure that the comparison between the original and quantized models is fair."
      ],
      "metadata": {
        "id": "yF2qvM_GOH0G"
      }
    },
    {
      "cell_type": "code",
      "source": [
        "# Convert using the concrete function\n",
        "converter = tf.lite.TFLiteConverter.from_concrete_functions([concrete_func])\n",
        "tflite_model = converter.convert()\n",
        "\n",
        "# Save the TFLite model\n",
        "tflite_original_model_path = \"/content/drive/My Drive/saved_models/mobileNet_cifar10_quantization/mobilenet_cifar10_95.tflite\"\n",
        "with open(tflite_original_model_path, \"wb\") as f:\n",
        "    f.write(tflite_model)\n",
        "\n",
        "print(f\"TFLite model saved at: {tflite_original_model_path}\")"
      ],
      "metadata": {
        "id": "cYN62Y_QOOxT",
        "colab": {
          "base_uri": "https://localhost:8080/"
        },
        "outputId": "a8cfdae4-5b11-4a96-8ed5-4bbc3f0b1eb5"
      },
      "execution_count": null,
      "outputs": [
        {
          "output_type": "stream",
          "name": "stderr",
          "text": [
            "WARNING:absl:Please consider providing the trackable_obj argument in the from_concrete_functions. Providing without the trackable_obj argument is deprecated and it will use the deprecated conversion path.\n"
          ]
        },
        {
          "output_type": "stream",
          "name": "stdout",
          "text": [
            "TFLite model saved at: /content/drive/My Drive/saved_models/mobileNet_cifar10_quantization/mobilenet_cifar10_95.tflite\n"
          ]
        }
      ]
    },
    {
      "cell_type": "markdown",
      "metadata": {
        "id": "inz0uFuq1bVs"
      },
      "source": [
        "# 4- Float16 Quantization\n",
        "✅ What happens?\n",
        "\n",
        "The model weights are converted from float32 to float16, reducing the model size by half. Computation still happens in float32 on most hardware unless the device supports float16 acceleration (e.g., some GPUs and TPUs).\n",
        "Ensures that numerical precision loss is minimal."
      ]
    },
    {
      "cell_type": "code",
      "source": [
        "# Convert to TFLite format Dynamic Range Quantization\n",
        "converter = tf.lite.TFLiteConverter.from_concrete_functions([concrete_func])\n",
        "converter.optimizations = [tf.lite.Optimize.DEFAULT]\n",
        "converter.target_spec.supported_types = [tf.float16]\n",
        "tflite_model_fp16 = converter.convert()\n",
        "tflite_model_fp16_path = \"/content/drive/My Drive/saved_models/mobileNet_cifar10_quantization/mobilenet_quantized_fp16_cifar10.tflite\"\n",
        "with open(tflite_model_fp16_path, \"wb\") as f:\n",
        "    f.write(tflite_model_fp16)\n",
        "\n",
        "print(f\"Quantized Model Saved at: {tflite_model_fp16_path}\")"
      ],
      "metadata": {
        "id": "PJcxg3wsTBLk",
        "colab": {
          "base_uri": "https://localhost:8080/"
        },
        "outputId": "ed619811-6360-4042-c114-e4aceb94f4c4"
      },
      "execution_count": null,
      "outputs": [
        {
          "output_type": "stream",
          "name": "stderr",
          "text": [
            "WARNING:absl:Please consider providing the trackable_obj argument in the from_concrete_functions. Providing without the trackable_obj argument is deprecated and it will use the deprecated conversion path.\n"
          ]
        },
        {
          "output_type": "stream",
          "name": "stdout",
          "text": [
            "Quantized Model Saved at: /content/drive/My Drive/saved_models/mobileNet_cifar10_quantization/mobilenet_quantized_fp16_cifar10.tflite\n"
          ]
        }
      ]
    },
    {
      "cell_type": "markdown",
      "metadata": {
        "id": "8wzvWfkM1A_Q"
      },
      "source": [
        "# 5- Dynamic Range Quantization\n",
        "✅ What happens?\n",
        "\n",
        "The model weights are quantized to INT8 or UINT8, but activations remain in float32 during inference.\n",
        "The model is smaller and runs faster than float16 or full float32 models.\n",
        "Since activations remain in float32, there is less precision loss compared to full INT8 quantization."
      ]
    },
    {
      "cell_type": "code",
      "source": [
        "# Convert to TFLite format Dynamic Range Quantization\n",
        "converter = tf.lite.TFLiteConverter.from_concrete_functions([concrete_func])\n",
        "converter.optimizations = [tf.lite.Optimize.DEFAULT]  # Apply dynamic range quantization\n",
        "\n",
        "# Convert the model\n",
        "tflite_model_int8 = converter.convert()\n",
        "\n",
        "# Save the converted model\n",
        "tflite_model_int8_path = \"/content/drive/My Drive/saved_models/mobileNet_cifar10_quantization/mobilenet_quantized_INT8_cifar10.tflite\"\n",
        "with open(tflite_model_int8_path, \"wb\") as f:\n",
        "    f.write(tflite_model_int8)\n",
        "\n",
        "print(f\"Quantized Model Saved at: {tflite_model_int8_path}\")"
      ],
      "metadata": {
        "id": "99uXyx9XUp2r",
        "colab": {
          "base_uri": "https://localhost:8080/"
        },
        "outputId": "bb0dda5c-12fb-4c8d-eccd-b95ab11cab24"
      },
      "execution_count": null,
      "outputs": [
        {
          "output_type": "stream",
          "name": "stderr",
          "text": [
            "WARNING:absl:Please consider providing the trackable_obj argument in the from_concrete_functions. Providing without the trackable_obj argument is deprecated and it will use the deprecated conversion path.\n"
          ]
        },
        {
          "output_type": "stream",
          "name": "stdout",
          "text": [
            "Quantized Model Saved at: /content/drive/My Drive/saved_models/mobileNet_cifar10_quantization/mobilenet_quantized_INT8_cifar10.tflite\n"
          ]
        }
      ]
    },
    {
      "cell_type": "markdown",
      "source": [
        "# 6- Full INT8 Quantization (Weights and Activations)"
      ],
      "metadata": {
        "id": "11PecvG3Sksf"
      }
    },
    {
      "cell_type": "code",
      "execution_count": null,
      "metadata": {
        "id": "RpGRfM7vL0V1",
        "colab": {
          "base_uri": "https://localhost:8080/"
        },
        "outputId": "4d4663f8-acae-42a3-8d1f-3aacdc666e5e"
      },
      "outputs": [
        {
          "output_type": "stream",
          "name": "stderr",
          "text": [
            "WARNING:absl:Please consider providing the trackable_obj argument in the from_concrete_functions. Providing without the trackable_obj argument is deprecated and it will use the deprecated conversion path.\n"
          ]
        },
        {
          "output_type": "stream",
          "name": "stdout",
          "text": [
            "Quantized Model Saved at: /content/drive/My Drive/saved_models/mobileNet_cifar10_quantization/mobilenet_quantized_FULL_INT8_cifar10.tflite\n"
          ]
        }
      ],
      "source": [
        "# Load the trained model\n",
        "converter = tf.lite.TFLiteConverter.from_concrete_functions([concrete_func])\n",
        "converter.optimizations = [tf.lite.Optimize.DEFAULT]  # Enable optimization\n",
        "\n",
        "# Define a representative dataset function (MANDATORY for int8 activations)\n",
        "def representative_dataset():\n",
        "    for batch_images, _ in test_dataset.take(10):  # Use enough samples\n",
        "        for image in batch_images:\n",
        "            yield [tf.expand_dims(tf.cast(image, tf.float32), axis=0).numpy()]  # Add batch dim\n",
        "# Apply full quantization\n",
        "converter.representative_dataset = representative_dataset\n",
        "converter.target_spec.supported_ops = [tf.lite.OpsSet.TFLITE_BUILTINS_INT8]  # Fully int8\n",
        "converter.inference_input_type = tf.int8  # Ensure model inputs are int8\n",
        "converter.inference_output_type = tf.int8  # Ensure model outputs are int8\n",
        "# Convert and save the quantized model\n",
        "tflite_model_full_int8 = converter.convert()\n",
        "\n",
        "# Save the converted model\n",
        "tflite_model_full_int8_path = \"/content/drive/My Drive/saved_models/mobileNet_cifar10_quantization/mobilenet_quantized_FULL_INT8_cifar10.tflite\"\n",
        "with open(tflite_model_full_int8_path, \"wb\") as f:\n",
        "    f.write(tflite_model_full_int8)\n",
        "print(f\"Quantized Model Saved at: {tflite_model_full_int8_path}\")"
      ]
    },
    {
      "cell_type": "markdown",
      "metadata": {
        "id": "dhFj4UMa3tBG"
      },
      "source": [
        "# 7- Comparing sizes of the Model ⚖️"
      ]
    },
    {
      "cell_type": "code",
      "execution_count": null,
      "metadata": {
        "id": "4gRO3cE13sA6",
        "colab": {
          "base_uri": "https://localhost:8080/"
        },
        "outputId": "136a27d1-754e-4307-8d9a-395a563a2430"
      },
      "outputs": [
        {
          "output_type": "stream",
          "name": "stdout",
          "text": [
            "Model Size before Quantization: 13.37 MB\n",
            "Model Size after float16 Quantization: 6.71 MB\n",
            "Model Size after INT8 Quantization: 3.53 MB\n",
            "Model Size after Full INT8 Quantization: 3.66 MB\n"
          ]
        }
      ],
      "source": [
        "size_in_mb_original = os.path.getsize(tflite_original_model_path) / (1024 * 1024)\n",
        "size_in_mb_float16 = os.path.getsize(tflite_model_fp16_path) / (1024 * 1024)\n",
        "size_in_mb_INT8 = os.path.getsize(tflite_model_int8_path) / (1024 * 1024)\n",
        "size_in_mb_full_INT8=os.path.getsize(tflite_model_full_int8_path) / (1024 * 1024)\n",
        "print(f\"Model Size before Quantization: {size_in_mb_original:.2f} MB\")\n",
        "print(f\"Model Size after float16 Quantization: {size_in_mb_float16:.2f} MB\")\n",
        "print(f\"Model Size after INT8 Quantization: {size_in_mb_INT8:.2f} MB\")\n",
        "print(f\"Model Size after Full INT8 Quantization: {size_in_mb_full_INT8:.2f} MB\")"
      ]
    },
    {
      "cell_type": "markdown",
      "metadata": {
        "id": "X0f2GYK37-CA"
      },
      "source": [
        "# 8- Comparing performances of the Model 📈🎯🚀"
      ]
    },
    {
      "cell_type": "code",
      "source": [
        "tflite_original_model_path = \"/content/drive/My Drive/saved_models/mobileNet_cifar10_quantization/mobilenet_cifar10_95.tflite\"\n",
        "tflite_model_fp16_path = \"/content/drive/My Drive/saved_models/mobileNet_cifar10_quantization/mobilenet_quantized_fp16_cifar10.tflite\"\n",
        "tflite_model_int8_path = \"/content/drive/My Drive/saved_models/mobileNet_cifar10_quantization/mobilenet_quantized_INT8_cifar10.tflite\"\n",
        "tflite_model_full_int8_path = \"/content/drive/My Drive/saved_models/mobileNet_cifar10_quantization/mobilenet_quantized_FULL_INT8_cifar10.tflite\""
      ],
      "metadata": {
        "id": "beEK8VgAv7Qe"
      },
      "execution_count": null,
      "outputs": []
    },
    {
      "cell_type": "code",
      "source": [
        "# Take only the first 1000 images from the test dataset\n",
        "num_images = 1000\n",
        "inference_testset = test_dataset.take(num_images // BATCH_SIZE)  # Take enough batches\n",
        "# print the length of the inference testset\n",
        "test_img_count = 0\n",
        "for images, _ in inference_testset:\n",
        "    test_img_count += images.shape[0]  # Add the batch size each time\n",
        "\n",
        "print(f\"Subset contains {test_img_count} images\")"
      ],
      "metadata": {
        "colab": {
          "base_uri": "https://localhost:8080/"
        },
        "id": "NDmy75QavB-q",
        "outputId": "341512b3-8e60-4336-9b94-c603e3a4757f"
      },
      "execution_count": null,
      "outputs": [
        {
          "output_type": "stream",
          "name": "stdout",
          "text": [
            "Subset contains 960 images\n"
          ]
        }
      ]
    },
    {
      "cell_type": "code",
      "execution_count": null,
      "metadata": {
        "id": "H8nHIAmw_m7U"
      },
      "outputs": [],
      "source": [
        "# Function to run inference on TFLite model with CIFAR-10 dataset\n",
        "def evaluate_tflite_model(interpreter, dataset):\n",
        "    correct = 0\n",
        "    total = 0\n",
        "\n",
        "    # Get input and output tensor details\n",
        "    input_details = interpreter.get_input_details()\n",
        "    output_details = interpreter.get_output_details()\n",
        "\n",
        "    # Get quantization scale and zero point for input and output tensors\n",
        "    input_scale, input_zero_point = input_details[0]['quantization']\n",
        "    output_scale, output_zero_point = output_details[0]['quantization']\n",
        "    start_time = time.time()\n",
        "    for images, labels in dataset:\n",
        "        for i in range(len(images)):\n",
        "            # Prepare input image\n",
        "            input_data = np.expand_dims(images[i].numpy(), axis=0)\n",
        "\n",
        "            # Ensure proper INT8 conversion if the model is quantized\n",
        "            if input_details[0]['dtype'] == np.int8:\n",
        "                input_data = ((input_data / input_scale) + input_zero_point).astype(np.int8)\n",
        "            else:\n",
        "                input_data = input_data.astype(np.float32)\n",
        "\n",
        "            # Set the input tensor\n",
        "            interpreter.set_tensor(input_details[0]['index'], input_data)\n",
        "\n",
        "            # Run inference\n",
        "            interpreter.invoke()\n",
        "\n",
        "            # Get the output tensor\n",
        "            output_data = interpreter.get_tensor(output_details[0]['index'])\n",
        "\n",
        "            # If the model is quantized (INT8), dequantize output\n",
        "            if output_details[0]['dtype'] == np.int8:\n",
        "                output_data = (output_data.astype(np.float32) - output_zero_point) * output_scale\n",
        "\n",
        "            # Get the predicted class (highest probability)\n",
        "            predicted_label = np.argmax(output_data, axis=1)[0]\n",
        "\n",
        "            # Compare with ground truth\n",
        "            if predicted_label == labels[i].numpy():\n",
        "                correct += 1\n",
        "            total += 1\n",
        "    execution_time = time.time() - start_time\n",
        "    accuracy = (correct / total) * 100\n",
        "    return accuracy, execution_time\n"
      ]
    },
    {
      "cell_type": "markdown",
      "metadata": {
        "id": "9Y4q2thZ-Wi2"
      },
      "source": [
        "## 1- Original Model"
      ]
    },
    {
      "cell_type": "code",
      "execution_count": null,
      "metadata": {
        "id": "flRXVQCu7Svo",
        "colab": {
          "base_uri": "https://localhost:8080/"
        },
        "outputId": "4b2ad883-9c69-4a12-b26f-dadf3d5e27ca"
      },
      "outputs": [
        {
          "output_type": "stream",
          "name": "stdout",
          "text": [
            "TFLite Model Accuracy: 93.85 %\n",
            "TFLite Inference Time for 960 images: 40.96 s\n"
          ]
        }
      ],
      "source": [
        "# Load the model\n",
        "interpreter = tf.lite.Interpreter(model_path=tflite_original_model_path)\n",
        "interpreter.allocate_tensors()\n",
        "# Get input and output details\n",
        "input_details = interpreter.get_input_details()\n",
        "output_details = interpreter.get_output_details()\n",
        "# Run evaluation on TFLite model\n",
        "original_accuracy, original_execution_time = evaluate_tflite_model(interpreter, inference_testset)\n",
        "print(f\"TFLite Model Accuracy: {original_accuracy:.2f} %\")\n",
        "print(f\"TFLite Inference Time for {test_img_count} images: {original_execution_time:.2f} s\")"
      ]
    },
    {
      "cell_type": "markdown",
      "metadata": {
        "id": "tsjLEnA9-brq"
      },
      "source": [
        "## 2- Float16 Quantizatied model"
      ]
    },
    {
      "cell_type": "code",
      "execution_count": null,
      "metadata": {
        "id": "M7C4iDCH-g_i",
        "colab": {
          "base_uri": "https://localhost:8080/"
        },
        "outputId": "11902bef-c206-4057-b897-f23ecc9f6c6d"
      },
      "outputs": [
        {
          "output_type": "stream",
          "name": "stdout",
          "text": [
            "TFLite (FP16 Quantized) Model Accuracy: 93.85 %\n",
            "TFLite (FP16 Quantized) Inference Time for 960 images: 28.62 s\n"
          ]
        }
      ],
      "source": [
        "interpreter = tf.lite.Interpreter(model_path=tflite_model_fp16_path)\n",
        "interpreter.allocate_tensors()\n",
        "\n",
        "# Get input and output details\n",
        "input_details = interpreter.get_input_details()\n",
        "output_details = interpreter.get_output_details()\n",
        "\n",
        "# Run evaluation on TFLite model\n",
        "fp16_accuracy, fp16_execution_time = evaluate_tflite_model(interpreter, inference_testset)\n",
        "print(f\"TFLite (FP16 Quantized) Model Accuracy: {fp16_accuracy:.2f} %\")\n",
        "print(f\"TFLite (FP16 Quantized) Inference Time for {test_img_count} images: {fp16_execution_time:.2f} s\")"
      ]
    },
    {
      "cell_type": "markdown",
      "metadata": {
        "id": "uJGxBynOAZXS"
      },
      "source": [
        "## 3- Dynamic Range Quantizatied (INT8 weights)"
      ]
    },
    {
      "cell_type": "code",
      "execution_count": null,
      "metadata": {
        "id": "nSfg0pfSAY80",
        "colab": {
          "base_uri": "https://localhost:8080/"
        },
        "outputId": "baf89eaa-18b8-497d-aea0-14822ea391d4"
      },
      "outputs": [
        {
          "output_type": "stream",
          "name": "stdout",
          "text": [
            "TFLite (INT8 Quantized) Model Accuracy: 92.40 %\n",
            "TFLite (INT8 Quantized) Inference Time for 960 images: 40.96 s\n"
          ]
        }
      ],
      "source": [
        "interpreter = tf.lite.Interpreter(model_path=tflite_model_int8_path)\n",
        "interpreter.allocate_tensors()\n",
        "# Get input and output details\n",
        "input_details = interpreter.get_input_details()\n",
        "output_details = interpreter.get_output_details()\n",
        "\n",
        "# Run evaluation on TFLite model\n",
        "int8_accuracy, int8_execution_time = evaluate_tflite_model(interpreter, inference_testset)\n",
        "print(f\"TFLite (INT8 Quantized) Model Accuracy: {int8_accuracy:.2f} %\")\n",
        "print(f\"TFLite (INT8 Quantized) Inference Time for {test_img_count} images: {int8_execution_time:.2f} s\")"
      ]
    },
    {
      "cell_type": "code",
      "execution_count": null,
      "metadata": {
        "id": "8fSHgsPHUP7u",
        "colab": {
          "base_uri": "https://localhost:8080/"
        },
        "outputId": "112c5716-28cb-4d84-cbcd-6a496280cc9f"
      },
      "outputs": [
        {
          "output_type": "stream",
          "name": "stdout",
          "text": [
            "TFLite (FULL INT8 Quantized) Model Accuracy: 89.58 %\n",
            "TFLite (FULL INT8 Quantized) Inference Time for 960 images: 29.81 s\n"
          ]
        }
      ],
      "source": [
        "interpreter = tf.lite.Interpreter(model_path=tflite_model_full_int8_path)\n",
        "interpreter.allocate_tensors()\n",
        "# Get input and output details\n",
        "input_details = interpreter.get_input_details()\n",
        "output_details = interpreter.get_output_details()\n",
        "# Run evaluation on TFLite model\n",
        "full_int8_accuracy, full_int8_execution_time = evaluate_tflite_model(interpreter, inference_testset)\n",
        "print(f\"TFLite (FULL INT8 Quantized) Model Accuracy: {full_int8_accuracy:.2f} %\")\n",
        "print(f\"TFLite (FULL INT8 Quantized) Inference Time for {test_img_count} images: {full_int8_execution_time:.2f} s\")"
      ]
    },
    {
      "cell_type": "markdown",
      "source": [
        "# Results Summary 📝"
      ],
      "metadata": {
        "id": "g4f_62imsJ9O"
      }
    },
    {
      "cell_type": "code",
      "execution_count": null,
      "metadata": {
        "id": "Ft8Y1q-kDvH9",
        "colab": {
          "base_uri": "https://localhost:8080/",
          "height": 175
        },
        "outputId": "136361ed-cb63-4f18-fe0a-97b842d2a84c"
      },
      "outputs": [
        {
          "output_type": "execute_result",
          "data": {
            "text/plain": [
              "                 Model  Accuracy (%)  Inference Time for 960 images (s):  \\\n",
              "0       Original Model     93.854167                           40.956949   \n",
              "1       FP16 Quantized     93.854167                           28.619762   \n",
              "2       INT8 Quantized     92.395833                           40.955777   \n",
              "3  Full INT8 Quantized     89.583333                           29.812876   \n",
              "\n",
              "   Model Size (MB)  \n",
              "0        13.374702  \n",
              "1         6.705235  \n",
              "2         3.528984  \n",
              "3         3.656235  "
            ],
            "text/html": [
              "\n",
              "  <div id=\"df-bdccf2c3-2cab-432c-9a6a-8df5bcf2d0dd\" class=\"colab-df-container\">\n",
              "    <div>\n",
              "<style scoped>\n",
              "    .dataframe tbody tr th:only-of-type {\n",
              "        vertical-align: middle;\n",
              "    }\n",
              "\n",
              "    .dataframe tbody tr th {\n",
              "        vertical-align: top;\n",
              "    }\n",
              "\n",
              "    .dataframe thead th {\n",
              "        text-align: right;\n",
              "    }\n",
              "</style>\n",
              "<table border=\"1\" class=\"dataframe\">\n",
              "  <thead>\n",
              "    <tr style=\"text-align: right;\">\n",
              "      <th></th>\n",
              "      <th>Model</th>\n",
              "      <th>Accuracy (%)</th>\n",
              "      <th>Inference Time for 960 images (s):</th>\n",
              "      <th>Model Size (MB)</th>\n",
              "    </tr>\n",
              "  </thead>\n",
              "  <tbody>\n",
              "    <tr>\n",
              "      <th>0</th>\n",
              "      <td>Original Model</td>\n",
              "      <td>93.854167</td>\n",
              "      <td>40.956949</td>\n",
              "      <td>13.374702</td>\n",
              "    </tr>\n",
              "    <tr>\n",
              "      <th>1</th>\n",
              "      <td>FP16 Quantized</td>\n",
              "      <td>93.854167</td>\n",
              "      <td>28.619762</td>\n",
              "      <td>6.705235</td>\n",
              "    </tr>\n",
              "    <tr>\n",
              "      <th>2</th>\n",
              "      <td>INT8 Quantized</td>\n",
              "      <td>92.395833</td>\n",
              "      <td>40.955777</td>\n",
              "      <td>3.528984</td>\n",
              "    </tr>\n",
              "    <tr>\n",
              "      <th>3</th>\n",
              "      <td>Full INT8 Quantized</td>\n",
              "      <td>89.583333</td>\n",
              "      <td>29.812876</td>\n",
              "      <td>3.656235</td>\n",
              "    </tr>\n",
              "  </tbody>\n",
              "</table>\n",
              "</div>\n",
              "    <div class=\"colab-df-buttons\">\n",
              "\n",
              "  <div class=\"colab-df-container\">\n",
              "    <button class=\"colab-df-convert\" onclick=\"convertToInteractive('df-bdccf2c3-2cab-432c-9a6a-8df5bcf2d0dd')\"\n",
              "            title=\"Convert this dataframe to an interactive table.\"\n",
              "            style=\"display:none;\">\n",
              "\n",
              "  <svg xmlns=\"http://www.w3.org/2000/svg\" height=\"24px\" viewBox=\"0 -960 960 960\">\n",
              "    <path d=\"M120-120v-720h720v720H120Zm60-500h600v-160H180v160Zm220 220h160v-160H400v160Zm0 220h160v-160H400v160ZM180-400h160v-160H180v160Zm440 0h160v-160H620v160ZM180-180h160v-160H180v160Zm440 0h160v-160H620v160Z\"/>\n",
              "  </svg>\n",
              "    </button>\n",
              "\n",
              "  <style>\n",
              "    .colab-df-container {\n",
              "      display:flex;\n",
              "      gap: 12px;\n",
              "    }\n",
              "\n",
              "    .colab-df-convert {\n",
              "      background-color: #E8F0FE;\n",
              "      border: none;\n",
              "      border-radius: 50%;\n",
              "      cursor: pointer;\n",
              "      display: none;\n",
              "      fill: #1967D2;\n",
              "      height: 32px;\n",
              "      padding: 0 0 0 0;\n",
              "      width: 32px;\n",
              "    }\n",
              "\n",
              "    .colab-df-convert:hover {\n",
              "      background-color: #E2EBFA;\n",
              "      box-shadow: 0px 1px 2px rgba(60, 64, 67, 0.3), 0px 1px 3px 1px rgba(60, 64, 67, 0.15);\n",
              "      fill: #174EA6;\n",
              "    }\n",
              "\n",
              "    .colab-df-buttons div {\n",
              "      margin-bottom: 4px;\n",
              "    }\n",
              "\n",
              "    [theme=dark] .colab-df-convert {\n",
              "      background-color: #3B4455;\n",
              "      fill: #D2E3FC;\n",
              "    }\n",
              "\n",
              "    [theme=dark] .colab-df-convert:hover {\n",
              "      background-color: #434B5C;\n",
              "      box-shadow: 0px 1px 3px 1px rgba(0, 0, 0, 0.15);\n",
              "      filter: drop-shadow(0px 1px 2px rgba(0, 0, 0, 0.3));\n",
              "      fill: #FFFFFF;\n",
              "    }\n",
              "  </style>\n",
              "\n",
              "    <script>\n",
              "      const buttonEl =\n",
              "        document.querySelector('#df-bdccf2c3-2cab-432c-9a6a-8df5bcf2d0dd button.colab-df-convert');\n",
              "      buttonEl.style.display =\n",
              "        google.colab.kernel.accessAllowed ? 'block' : 'none';\n",
              "\n",
              "      async function convertToInteractive(key) {\n",
              "        const element = document.querySelector('#df-bdccf2c3-2cab-432c-9a6a-8df5bcf2d0dd');\n",
              "        const dataTable =\n",
              "          await google.colab.kernel.invokeFunction('convertToInteractive',\n",
              "                                                    [key], {});\n",
              "        if (!dataTable) return;\n",
              "\n",
              "        const docLinkHtml = 'Like what you see? Visit the ' +\n",
              "          '<a target=\"_blank\" href=https://colab.research.google.com/notebooks/data_table.ipynb>data table notebook</a>'\n",
              "          + ' to learn more about interactive tables.';\n",
              "        element.innerHTML = '';\n",
              "        dataTable['output_type'] = 'display_data';\n",
              "        await google.colab.output.renderOutput(dataTable, element);\n",
              "        const docLink = document.createElement('div');\n",
              "        docLink.innerHTML = docLinkHtml;\n",
              "        element.appendChild(docLink);\n",
              "      }\n",
              "    </script>\n",
              "  </div>\n",
              "\n",
              "\n",
              "<div id=\"df-73cacaf6-1dc3-4d90-a76e-26df5bbed986\">\n",
              "  <button class=\"colab-df-quickchart\" onclick=\"quickchart('df-73cacaf6-1dc3-4d90-a76e-26df5bbed986')\"\n",
              "            title=\"Suggest charts\"\n",
              "            style=\"display:none;\">\n",
              "\n",
              "<svg xmlns=\"http://www.w3.org/2000/svg\" height=\"24px\"viewBox=\"0 0 24 24\"\n",
              "     width=\"24px\">\n",
              "    <g>\n",
              "        <path d=\"M19 3H5c-1.1 0-2 .9-2 2v14c0 1.1.9 2 2 2h14c1.1 0 2-.9 2-2V5c0-1.1-.9-2-2-2zM9 17H7v-7h2v7zm4 0h-2V7h2v10zm4 0h-2v-4h2v4z\"/>\n",
              "    </g>\n",
              "</svg>\n",
              "  </button>\n",
              "\n",
              "<style>\n",
              "  .colab-df-quickchart {\n",
              "      --bg-color: #E8F0FE;\n",
              "      --fill-color: #1967D2;\n",
              "      --hover-bg-color: #E2EBFA;\n",
              "      --hover-fill-color: #174EA6;\n",
              "      --disabled-fill-color: #AAA;\n",
              "      --disabled-bg-color: #DDD;\n",
              "  }\n",
              "\n",
              "  [theme=dark] .colab-df-quickchart {\n",
              "      --bg-color: #3B4455;\n",
              "      --fill-color: #D2E3FC;\n",
              "      --hover-bg-color: #434B5C;\n",
              "      --hover-fill-color: #FFFFFF;\n",
              "      --disabled-bg-color: #3B4455;\n",
              "      --disabled-fill-color: #666;\n",
              "  }\n",
              "\n",
              "  .colab-df-quickchart {\n",
              "    background-color: var(--bg-color);\n",
              "    border: none;\n",
              "    border-radius: 50%;\n",
              "    cursor: pointer;\n",
              "    display: none;\n",
              "    fill: var(--fill-color);\n",
              "    height: 32px;\n",
              "    padding: 0;\n",
              "    width: 32px;\n",
              "  }\n",
              "\n",
              "  .colab-df-quickchart:hover {\n",
              "    background-color: var(--hover-bg-color);\n",
              "    box-shadow: 0 1px 2px rgba(60, 64, 67, 0.3), 0 1px 3px 1px rgba(60, 64, 67, 0.15);\n",
              "    fill: var(--button-hover-fill-color);\n",
              "  }\n",
              "\n",
              "  .colab-df-quickchart-complete:disabled,\n",
              "  .colab-df-quickchart-complete:disabled:hover {\n",
              "    background-color: var(--disabled-bg-color);\n",
              "    fill: var(--disabled-fill-color);\n",
              "    box-shadow: none;\n",
              "  }\n",
              "\n",
              "  .colab-df-spinner {\n",
              "    border: 2px solid var(--fill-color);\n",
              "    border-color: transparent;\n",
              "    border-bottom-color: var(--fill-color);\n",
              "    animation:\n",
              "      spin 1s steps(1) infinite;\n",
              "  }\n",
              "\n",
              "  @keyframes spin {\n",
              "    0% {\n",
              "      border-color: transparent;\n",
              "      border-bottom-color: var(--fill-color);\n",
              "      border-left-color: var(--fill-color);\n",
              "    }\n",
              "    20% {\n",
              "      border-color: transparent;\n",
              "      border-left-color: var(--fill-color);\n",
              "      border-top-color: var(--fill-color);\n",
              "    }\n",
              "    30% {\n",
              "      border-color: transparent;\n",
              "      border-left-color: var(--fill-color);\n",
              "      border-top-color: var(--fill-color);\n",
              "      border-right-color: var(--fill-color);\n",
              "    }\n",
              "    40% {\n",
              "      border-color: transparent;\n",
              "      border-right-color: var(--fill-color);\n",
              "      border-top-color: var(--fill-color);\n",
              "    }\n",
              "    60% {\n",
              "      border-color: transparent;\n",
              "      border-right-color: var(--fill-color);\n",
              "    }\n",
              "    80% {\n",
              "      border-color: transparent;\n",
              "      border-right-color: var(--fill-color);\n",
              "      border-bottom-color: var(--fill-color);\n",
              "    }\n",
              "    90% {\n",
              "      border-color: transparent;\n",
              "      border-bottom-color: var(--fill-color);\n",
              "    }\n",
              "  }\n",
              "</style>\n",
              "\n",
              "  <script>\n",
              "    async function quickchart(key) {\n",
              "      const quickchartButtonEl =\n",
              "        document.querySelector('#' + key + ' button');\n",
              "      quickchartButtonEl.disabled = true;  // To prevent multiple clicks.\n",
              "      quickchartButtonEl.classList.add('colab-df-spinner');\n",
              "      try {\n",
              "        const charts = await google.colab.kernel.invokeFunction(\n",
              "            'suggestCharts', [key], {});\n",
              "      } catch (error) {\n",
              "        console.error('Error during call to suggestCharts:', error);\n",
              "      }\n",
              "      quickchartButtonEl.classList.remove('colab-df-spinner');\n",
              "      quickchartButtonEl.classList.add('colab-df-quickchart-complete');\n",
              "    }\n",
              "    (() => {\n",
              "      let quickchartButtonEl =\n",
              "        document.querySelector('#df-73cacaf6-1dc3-4d90-a76e-26df5bbed986 button');\n",
              "      quickchartButtonEl.style.display =\n",
              "        google.colab.kernel.accessAllowed ? 'block' : 'none';\n",
              "    })();\n",
              "  </script>\n",
              "</div>\n",
              "\n",
              "  <div id=\"id_df13badd-3526-4094-97ef-19a9c264b741\">\n",
              "    <style>\n",
              "      .colab-df-generate {\n",
              "        background-color: #E8F0FE;\n",
              "        border: none;\n",
              "        border-radius: 50%;\n",
              "        cursor: pointer;\n",
              "        display: none;\n",
              "        fill: #1967D2;\n",
              "        height: 32px;\n",
              "        padding: 0 0 0 0;\n",
              "        width: 32px;\n",
              "      }\n",
              "\n",
              "      .colab-df-generate:hover {\n",
              "        background-color: #E2EBFA;\n",
              "        box-shadow: 0px 1px 2px rgba(60, 64, 67, 0.3), 0px 1px 3px 1px rgba(60, 64, 67, 0.15);\n",
              "        fill: #174EA6;\n",
              "      }\n",
              "\n",
              "      [theme=dark] .colab-df-generate {\n",
              "        background-color: #3B4455;\n",
              "        fill: #D2E3FC;\n",
              "      }\n",
              "\n",
              "      [theme=dark] .colab-df-generate:hover {\n",
              "        background-color: #434B5C;\n",
              "        box-shadow: 0px 1px 3px 1px rgba(0, 0, 0, 0.15);\n",
              "        filter: drop-shadow(0px 1px 2px rgba(0, 0, 0, 0.3));\n",
              "        fill: #FFFFFF;\n",
              "      }\n",
              "    </style>\n",
              "    <button class=\"colab-df-generate\" onclick=\"generateWithVariable('results_table')\"\n",
              "            title=\"Generate code using this dataframe.\"\n",
              "            style=\"display:none;\">\n",
              "\n",
              "  <svg xmlns=\"http://www.w3.org/2000/svg\" height=\"24px\"viewBox=\"0 0 24 24\"\n",
              "       width=\"24px\">\n",
              "    <path d=\"M7,19H8.4L18.45,9,17,7.55,7,17.6ZM5,21V16.75L18.45,3.32a2,2,0,0,1,2.83,0l1.4,1.43a1.91,1.91,0,0,1,.58,1.4,1.91,1.91,0,0,1-.58,1.4L9.25,21ZM18.45,9,17,7.55Zm-12,3A5.31,5.31,0,0,0,4.9,8.1,5.31,5.31,0,0,0,1,6.5,5.31,5.31,0,0,0,4.9,4.9,5.31,5.31,0,0,0,6.5,1,5.31,5.31,0,0,0,8.1,4.9,5.31,5.31,0,0,0,12,6.5,5.46,5.46,0,0,0,6.5,12Z\"/>\n",
              "  </svg>\n",
              "    </button>\n",
              "    <script>\n",
              "      (() => {\n",
              "      const buttonEl =\n",
              "        document.querySelector('#id_df13badd-3526-4094-97ef-19a9c264b741 button.colab-df-generate');\n",
              "      buttonEl.style.display =\n",
              "        google.colab.kernel.accessAllowed ? 'block' : 'none';\n",
              "\n",
              "      buttonEl.onclick = () => {\n",
              "        google.colab.notebook.generateWithVariable('results_table');\n",
              "      }\n",
              "      })();\n",
              "    </script>\n",
              "  </div>\n",
              "\n",
              "    </div>\n",
              "  </div>\n"
            ],
            "application/vnd.google.colaboratory.intrinsic+json": {
              "type": "dataframe",
              "variable_name": "results_table",
              "summary": "{\n  \"name\": \"results_table\",\n  \"rows\": 4,\n  \"fields\": [\n    {\n      \"column\": \"Model\",\n      \"properties\": {\n        \"dtype\": \"string\",\n        \"num_unique_values\": 4,\n        \"samples\": [\n          \"FP16 Quantized\",\n          \"Full INT8 Quantized\",\n          \"Original Model\"\n        ],\n        \"semantic_type\": \"\",\n        \"description\": \"\"\n      }\n    },\n    {\n      \"column\": \"Accuracy (%)\",\n      \"properties\": {\n        \"dtype\": \"number\",\n        \"std\": 2.013364994117318,\n        \"min\": 89.58333333333334,\n        \"max\": 93.85416666666667,\n        \"num_unique_values\": 3,\n        \"samples\": [\n          93.85416666666667,\n          92.39583333333333,\n          89.58333333333334\n        ],\n        \"semantic_type\": \"\",\n        \"description\": \"\"\n      }\n    },\n    {\n      \"column\": \"Inference Time for 960 images (s):\",\n      \"properties\": {\n        \"dtype\": \"number\",\n        \"std\": 6.795596535757692,\n        \"min\": 28.61976194381714,\n        \"max\": 40.95694923400879,\n        \"num_unique_values\": 4,\n        \"samples\": [\n          28.61976194381714,\n          29.812875747680664,\n          40.95694923400879\n        ],\n        \"semantic_type\": \"\",\n        \"description\": \"\"\n      }\n    },\n    {\n      \"column\": \"Model Size (MB)\",\n      \"properties\": {\n        \"dtype\": \"number\",\n        \"std\": 4.6122097649184495,\n        \"min\": 3.5289840698242188,\n        \"max\": 13.374702453613281,\n        \"num_unique_values\": 4,\n        \"samples\": [\n          6.705234527587891,\n          3.6562347412109375,\n          13.374702453613281\n        ],\n        \"semantic_type\": \"\",\n        \"description\": \"\"\n      }\n    }\n  ]\n}"
            }
          },
          "metadata": {},
          "execution_count": 15
        }
      ],
      "source": [
        "data = {\n",
        "    'Model': ['Original Model', 'FP16 Quantized', 'INT8 Quantized','Full INT8 Quantized'],\n",
        "    'Accuracy (%)': [original_accuracy, fp16_accuracy, int8_accuracy, full_int8_accuracy],\n",
        "    f'Inference Time for {test_img_count} images (s):': [original_execution_time, fp16_execution_time, int8_execution_time, full_int8_execution_time],\n",
        "    'Model Size (MB)': [size_in_mb_original, size_in_mb_float16, size_in_mb_INT8, size_in_mb_full_INT8],\n",
        "}\n",
        "results_table = pd.DataFrame(data)\n",
        "results_table"
      ]
    },
    {
      "cell_type": "code",
      "source": [
        "# Define model names\n",
        "models = [\"Original Model\", \"FP16 Quantized\", \"INT8 Quantized\", \"Full INT8 Quantized\"]\n",
        "# Define metrics for different versions of the model\n",
        "model_sizes = [size_in_mb_original, size_in_mb_float16, size_in_mb_INT8, size_in_mb_full_INT8]  # in MB\n",
        "model_accuracy = [original_accuracy, fp16_accuracy, int8_accuracy, full_int8_accuracy]  # in %\n",
        "inference_speed = [original_execution_time, fp16_execution_time, int8_execution_time, full_int8_execution_time]  # in ms\n",
        "# Set width for bars\n",
        "bar_width = 0.6\n",
        "x = np.arange(len(models))\n",
        "def plot_barchart(values, ylabel, title, colors, value_format=\"{}\"):\n",
        "    plt.figure(figsize=(10, 5))\n",
        "    bars = plt.bar(x, values, width=bar_width, color=colors)\n",
        "\n",
        "    # Add text inside the bars\n",
        "    for bar, value in zip(bars, values):\n",
        "        plt.text(bar.get_x() + bar.get_width() / 2, bar.get_height() / 2,\n",
        "                 value_format.format(value), ha='center', va='center', fontsize=12, color='white', fontweight='bold')\n",
        "\n",
        "    plt.xticks(x, models)\n",
        "    plt.ylabel(ylabel)\n",
        "    plt.title(title)\n",
        "    plt.show()"
      ],
      "metadata": {
        "id": "M897D9Grexez"
      },
      "execution_count": null,
      "outputs": []
    },
    {
      "cell_type": "code",
      "source": [
        "# Plot Model Size\n",
        "plot_barchart(model_sizes, \"Size (MB)\", \"Model Size Comparison\", ['blue', 'orange', 'green', 'red'], \"{:.2f} MB\")"
      ],
      "metadata": {
        "colab": {
          "base_uri": "https://localhost:8080/",
          "height": 468
        },
        "id": "EkADd1DbgB7X",
        "outputId": "4af885bc-1f20-4811-d6f4-3e39d3cf23fb"
      },
      "execution_count": null,
      "outputs": [
        {
          "output_type": "display_data",
          "data": {
            "text/plain": [
              "<Figure size 1000x500 with 1 Axes>"
            ],
            "image/png": "[encoded data removed]"
          },
          "metadata": {}
        }
      ]
    },
    {
      "cell_type": "code",
      "source": [
        "# Plot Model Accuracy\n",
        "plot_barchart(model_accuracy, \"Accuracy (%)\", \"Model Accuracy Comparison\", ['blue', 'orange', 'green', 'red'], \"{:.2f} %\")"
      ],
      "metadata": {
        "colab": {
          "base_uri": "https://localhost:8080/",
          "height": 468
        },
        "id": "CrBPQlHLgGqs",
        "outputId": "e643994c-d20a-4f9d-d2a5-b17546e21bd1"
      },
      "execution_count": null,
      "outputs": [
        {
          "output_type": "display_data",
          "data": {
            "text/plain": [
              "<Figure size 1000x500 with 1 Axes>"
            ],
            "image/png": "[encoded data removed]"
          },
          "metadata": {}
        }
      ]
    }
  ],
  "metadata": {
    "colab": {
      "provenance": []
    },
    "kernelspec": {
      "display_name": "Python 3",
      "name": "python3"
    },
    "language_info": {
      "name": "python"
    }
  },
  "nbformat": 4,
  "nbformat_minor": 0
}